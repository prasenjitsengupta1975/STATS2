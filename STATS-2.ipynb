{
 "cells": [
  {
   "cell_type": "code",
   "execution_count": null,
   "metadata": {},
   "outputs": [],
   "source": [
    " #A test is conducted which is consisting of 20 MCQs (multiple choices questions) with\n",
    "# every MCQ having its four options out of which only one is correct. Determine the\n",
    "# probability that a person undertaking that test has answered exactly 5 questions wrong."
   ]
  },
  {
   "cell_type": "code",
   "execution_count": 1,
   "metadata": {},
   "outputs": [],
   "source": [
    "import pandas as pd\n",
    "import numpy as np\n",
    "import scipy\n",
    "from scipy.stats import binom\n"
   ]
  },
  {
   "cell_type": "code",
   "execution_count": 3,
   "metadata": {},
   "outputs": [
    {
     "name": "stdout",
     "output_type": "stream",
     "text": [
      "The probabiliyt of person answering exactly 5 questions wrong is:  3.4264958230778575e-06\n"
     ]
    }
   ],
   "source": [
    "# No. of MCQ\n",
    "n = 20\n",
    "# Probability of failure\n",
    "proboffailure = (3/4) #(3 out of 4 is incorrect)\n",
    "#Exact 5 failures\n",
    "k = 5\n",
    "\n",
    "# probability of person answered exactly 5 questions wrong is:\n",
    "\n",
    "combinations = scipy.special.comb(n, k, exact=False, repetition=False)\n",
    "probability = combinations * np.power((proboffailure),k)*((1-proboffailure)**(n-k))\n",
    "\n",
    "print(f\"The probabiliyt of person answering exactly 5 questions wrong is:  {probability}\")\n",
    "\n"
   ]
  },
  {
   "cell_type": "code",
   "execution_count": 5,
   "metadata": {},
   "outputs": [
    {
     "name": "stdout",
     "output_type": "stream",
     "text": [
      "Probability of getting a D exactly 5 times is: 4.0615188436569525e-22\n"
     ]
    }
   ],
   "source": [
    "#Problem Statement 2:\n",
    "#A die marked A to E is rolled 50 times. Find the probability of getting a “D” exactly 5\n",
    "#times.\n",
    "\n",
    "# No. of times the dice is rolled\n",
    "n = 50\n",
    "# Probability of getting D\n",
    "p = 1/5\n",
    "# Getting D Exactly 5 times\n",
    "k = 5\n",
    "\n",
    "combinations = scipy.special.comb(n, k, exact=False, repetition=False)\n",
    "probability = combinations * np.power((proboffailure),k)*((1-proboffailure)**(n-k))\n",
    "print(f\"Probability of getting a D exactly 5 times is: {probability}\")\n"
   ]
  },
  {
   "cell_type": "code",
   "execution_count": 6,
   "metadata": {},
   "outputs": [
    {
     "name": "stdout",
     "output_type": "stream",
     "text": [
      "All Possible Probabilities are as below \n",
      "Probability of Zero black balls or Two Red Balls is : 0.13333333333333333\n",
      "Probability of One Black Ball or One Red Ball is : 0.5333333333333333 \n",
      "Probability of Two Black Balls or Zero Red Balls is: 0.3333333333333333\n"
     ]
    }
   ],
   "source": [
    "#Two balls are drawn at random in succession without replacement from an urn\n",
    "# containing 4 red balls and 6 black balls.\n",
    "# Find the probabilities of all the possible outcomes.\n",
    "\n",
    "# Total No of balls 4 Red and 6 Black\n",
    "n = 10\n",
    "\n",
    "#possible Events are RR (e1), RB(e2), BR(e3), BB(e4)\n",
    "\n",
    "#probability of zero black balls\n",
    "probofe1 = (4/10) *(3/9) \n",
    "#probability of One Black Balls e2+e3\n",
    "probofe2 = (4/10)*(6/9)\n",
    "probofe3 = (6/10)*(4/9)\n",
    "probae2e3 = probofe2 + probofe3\n",
    "#probability of 2 Black Balls is \n",
    "probofe4 = (6/10)*(5/9)\n",
    "\n",
    "print(f\"All Possible Probabilities are as below \")\n",
    "print(f\"Probability of Zero black balls or Two Red Balls is : {probofe1}\")\n",
    "print(f\"Probability of One Black Ball or One Red Ball is : {probae2e3} \")\n",
    "print(f\"Probability of Two Black Balls or Zero Red Balls is: {probofe4}\")"
   ]
  },
  {
   "cell_type": "code",
   "execution_count": null,
   "metadata": {},
   "outputs": [],
   "source": []
  }
 ],
 "metadata": {
  "kernelspec": {
   "display_name": "Python 3",
   "language": "python",
   "name": "python3"
  },
  "language_info": {
   "codemirror_mode": {
    "name": "ipython",
    "version": 3
   },
   "file_extension": ".py",
   "mimetype": "text/x-python",
   "name": "python",
   "nbconvert_exporter": "python",
   "pygments_lexer": "ipython3",
   "version": "3.7.0"
  }
 },
 "nbformat": 4,
 "nbformat_minor": 2
}
